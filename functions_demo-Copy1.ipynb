{
 "cells": [
  {
   "cell_type": "code",
   "execution_count": null,
   "metadata": {},
   "outputs": [],
   "source": [
    "from image_processing import *"
   ]
  },
  {
   "cell_type": "code",
   "execution_count": null,
   "metadata": {},
   "outputs": [],
   "source": [
    "import time\n",
    "import urllib\n",
    "import email.utils as eut\n",
    "import json\n",
    "\n",
    "def return_rms_payload(image, debug=False):\n",
    "    file_name = \"/tmp/\"+str(time.time())+\".jpg\"\n",
    "    cv2.imwrite(file_name, image)\n",
    "    annotations = detect_web(file_name, 1000, True)\n",
    "    \n",
    "    output = {}\n",
    "    output[\"full_matches\"] = []\n",
    "    output[\"partial_matches\"] = []\n",
    "    output[\"similar_images\"] = []\n",
    "    \n",
    "    for page in annotations.pages_with_matching_images:\n",
    "        for image in page.full_matching_images:\n",
    "            try:\n",
    "                img_url = str(image.url).split(\"?\")[0]\n",
    "                output[\"full_matches\"].append({\"image_url\": img_url, \"unix_time\": None})\n",
    "                conn = urllib.request.urlopen(img_url, timeout=3)\n",
    "                date_time = conn.headers['last-modified']\n",
    "                date_time = eut.parsedate(date_time)\n",
    "                unixtime = time.mktime(date_time)\n",
    "                if debug:\n",
    "                    print(img_url, end=\"\\n: \")\n",
    "                    print(unixtime)\n",
    "                output[\"full_matches\"].append({\"image_url\": img_url, \"unix_time\": unixtime})\n",
    "            except Exception as e:\n",
    "                if debug:\n",
    "                    print(e, date_time)\n",
    "\n",
    "        for image in page.partial_matching_images:\n",
    "            try:\n",
    "                img_url = str(image.url).split(\"?\")[0]\n",
    "                output[\"partial_matches\"].append({\"image_url\": img_url, \"unix_time\": None})\n",
    "                conn = urllib.request.urlopen(img_url, timeout=3)\n",
    "                date_time = conn.headers['last-modified']\n",
    "                date_time = eut.parsedate(date_time)\n",
    "                unixtime = time.mktime(date_time)\n",
    "                if debug:\n",
    "                    print(img_url, end=\"\\n: \")\n",
    "                    print(unixtime)\n",
    "                output[\"partial_matches\"].append({\"image_url\": img_url, \"unix_time\": unixtime})\n",
    "            except Exception as e:\n",
    "                if debug:\n",
    "                    print(e, date_time)\n",
    "\n",
    "        for image in annotations.visually_similar_images:\n",
    "            try:\n",
    "                img_url = str(image.url).split(\"?\")[0]\n",
    "                output[\"similar_images\"].append({\"image_url\": img_url, \"unix_time\": None})\n",
    "                conn = urllib.request.urlopen(img_url, timeout=3)\n",
    "                date_time = conn.headers['last-modified']\n",
    "                date_time = eut.parsedate(date_time)\n",
    "                unixtime = time.mktime(date_time)\n",
    "                if debug:\n",
    "                    print(img_url, end=\"\\n: \")\n",
    "                    print(unixtime)\n",
    "                output[\"similar_images\"].append({\"image_url\": img_url, \"unix_time\": unixtime})\n",
    "            except Exception as e:\n",
    "                if debug:\n",
    "                    print(e, date_time)\n",
    "   \n",
    "        return json.dumps(output)"
   ]
  },
  {
   "cell_type": "code",
   "execution_count": null,
   "metadata": {},
   "outputs": [],
   "source": [
    "test = cv2.imread(\"fake.jpg\")"
   ]
  },
  {
   "cell_type": "code",
   "execution_count": null,
   "metadata": {},
   "outputs": [],
   "source": [
    "payload = return_rms_payload(test)"
   ]
  },
  {
   "cell_type": "code",
   "execution_count": null,
   "metadata": {},
   "outputs": [],
   "source": [
    "import uuid\n",
    "from IPython.display import display_javascript, display_html, display\n",
    "import json\n",
    "\n",
    "class RenderJSON(object):\n",
    "    def __init__(self, json_data):\n",
    "        if isinstance(json_data, dict):\n",
    "            self.json_str = json.dumps(json_data)\n",
    "        else:\n",
    "            self.json_str = json_data\n",
    "        self.uuid = str(uuid.uuid4())\n",
    "\n",
    "    def _ipython_display_(self):\n",
    "        display_html('<div id=\"{}\" style=\"height: 600px; width:100%;\"></div>'.format(self.uuid), raw=True)\n",
    "        display_javascript(\"\"\"\n",
    "        require([\"https://rawgit.com/caldwell/renderjson/master/renderjson.js\"], function() {\n",
    "        document.getElementById('%s').appendChild(renderjson(%s))\n",
    "        });\n",
    "        \"\"\" % (self.uuid, self.json_str), raw=True)"
   ]
  },
  {
   "cell_type": "code",
   "execution_count": null,
   "metadata": {},
   "outputs": [],
   "source": [
    "RenderJSON(payload)"
   ]
  },
  {
   "cell_type": "code",
   "execution_count": null,
   "metadata": {},
   "outputs": [],
   "source": [
    "import urllib\n",
    "import email.utils as eut\n",
    "import time\n",
    "\n",
    "output = {}"
   ]
  },
  {
   "cell_type": "code",
   "execution_count": null,
   "metadata": {
    "scrolled": false
   },
   "outputs": [],
   "source": [
    "output[\"full_matches\"] = []\n",
    "output[\"partial_matches\"] = []\n",
    "output[\"similar_images\"] = []\n",
    "for page in annotations.pages_with_matching_images:\n",
    "    for image in page.full_matching_images:\n",
    "        try:\n",
    "            img_url = str(image.url).split(\"?\")[0]\n",
    "            print(img_url, end=\"\\n: \")\n",
    "            output[\"full_matches\"].append({\"image_url\": img_url, \"unix_time\": None})\n",
    "            conn = urllib.request.urlopen(img_url, timeout=3)\n",
    "            date_time = conn.headers['last-modified']\n",
    "            date_time = eut.parsedate(date_time)\n",
    "            unixtime = time.mktime(date_time)\n",
    "            print(unixtime)\n",
    "            output[\"full_matches\"].append({\"image_url\": img_url, \"unix_time\": unixtime})\n",
    "        except Exception as e:\n",
    "            print(e, date_time)\n",
    "        print(\" \")\n",
    "        \n",
    "    for image in page.partial_matching_images:\n",
    "        try:\n",
    "            img_url = str(image.url).split(\"?\")[0]\n",
    "            print(img_url, end=\"\\n: \")\n",
    "            output[\"partial_matches\"].append({\"image_url\": img_url, \"unix_time\": None})\n",
    "            conn = urllib.request.urlopen(img_url, timeout=3)\n",
    "            date_time = conn.headers['last-modified']\n",
    "            date_time = eut.parsedate(date_time)\n",
    "            unixtime = time.mktime(date_time)\n",
    "            print(unixtime)\n",
    "            output[\"partial_matches\"].append({\"image_url\": img_url, \"unix_time\": unixtime})\n",
    "        except Exception as e:\n",
    "            print(e, date_time)\n",
    "        print(\" \")\n",
    "        \n",
    "for image in annotations.visually_similar_images:\n",
    "    try:\n",
    "        img_url = str(image.url).split(\"?\")[0]\n",
    "        print(img_url, end=\"\\n: \")\n",
    "        output[\"similar_images\"].append({\"image_url\": img_url, \"unix_time\": None})\n",
    "        conn = urllib.request.urlopen(img_url, timeout=3)\n",
    "        date_time = conn.headers['last-modified']\n",
    "        date_time = eut.parsedate(date_time)\n",
    "        unixtime = time.mktime(date_time)\n",
    "        print(unixtime)\n",
    "        output[\"similar_images\"].append({\"image_url\": img_url, \"unix_time\": unixtime})\n",
    "    except Exception as e:\n",
    "        print(e, date_time)\n",
    "        print(\" \")"
   ]
  },
  {
   "cell_type": "code",
   "execution_count": null,
   "metadata": {},
   "outputs": [],
   "source": [
    "output"
   ]
  },
  {
   "cell_type": "code",
   "execution_count": null,
   "metadata": {},
   "outputs": [],
   "source": [
    "import json\n",
    "\n",
    "def is_json(myjson):\n",
    "    try:\n",
    "        json_object = json.loads(myjson)\n",
    "    except Exception as e:\n",
    "        print(e)\n",
    "        return False\n",
    "    return True\n",
    "\n",
    "json_payload = json.dumps(output)\n",
    "\n",
    "is_json(json_payload)"
   ]
  },
  {
   "cell_type": "code",
   "execution_count": null,
   "metadata": {},
   "outputs": [],
   "source": [
    "json_payload"
   ]
  },
  {
   "cell_type": "code",
   "execution_count": null,
   "metadata": {
    "scrolled": false
   },
   "outputs": [],
   "source": [
    "if annotations.best_guess_labels:\n",
    "        for label in annotations.best_guess_labels:\n",
    "            print('\\nBest guess label: {}'.format(label.label))\n",
    "\n",
    "if annotations.pages_with_matching_images:\n",
    "    print('\\n{} Pages with matching images found:'.format(\n",
    "        len(annotations.pages_with_matching_images)))\n",
    "\n",
    "    for page in annotations.pages_with_matching_images:\n",
    "        print('\\n\\tPage url   : {}'.format(page.url))\n",
    "\n",
    "        if page.full_matching_images:\n",
    "            print('\\t{} Full Matches found: '.format(\n",
    "                   len(page.full_matching_images)))\n",
    "\n",
    "            for image in page.full_matching_images:\n",
    "                print('\\t\\tImage url  : {}'.format(image.url))\n",
    "\n",
    "        if page.partial_matching_images:\n",
    "            print('\\t{} Partial Matches found: '.format(\n",
    "                   len(page.partial_matching_images)))\n",
    "\n",
    "            for image in page.partial_matching_images:\n",
    "                print('\\t\\tImage url  : {}'.format(image.url))\n",
    "\n",
    "if annotations.web_entities:\n",
    "    print('\\n{} Web entities found: '.format(\n",
    "        len(annotations.web_entities)))\n",
    "\n",
    "    for entity in annotations.web_entities:\n",
    "        print('\\n\\tScore      : {}'.format(entity.score))\n",
    "        print(u'\\tDescription: {}'.format(entity.description))\n",
    "\n",
    "if annotations.visually_similar_images:\n",
    "    print('\\n{} visually similar images found:\\n'.format(\n",
    "        len(annotations.visually_similar_images)))\n",
    "\n",
    "    for image in annotations.visually_similar_images:\n",
    "        print('\\tImage url    : {}'.format(image.url))"
   ]
  },
  {
   "cell_type": "code",
   "execution_count": 1,
   "metadata": {},
   "outputs": [
    {
     "name": "stdout",
     "output_type": "stream",
     "text": [
      "b'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'\n"
     ]
    }
   ],
   "source": [
    "import base64\n",
    "\n",
    "with open(\"trump.jpg\", \"rb\") as image_file:\n",
    "    encoded_string = base64.b64encode(image_file.read())\n",
    "    \n",
    "print(encoded_string)"
   ]
  },
  {
   "cell_type": "code",
   "execution_count": null,
   "metadata": {},
   "outputs": [],
   "source": [
    "import socket\n",
    "from geolite2 import geolite2\n",
    "from urllib.parse import urlparse"
   ]
  },
  {
   "cell_type": "code",
   "execution_count": null,
   "metadata": {},
   "outputs": [],
   "source": [
    "ip_a = socket.gethostbyname(urlparse(\"https://i.stack.imgur.com/leoFi.gif?s=32&g=1\").netloc)\n",
    "reader = geolite2.reader()\n",
    "country = reader.get(ip_a)['country']['names']['en']"
   ]
  },
  {
   "cell_type": "code",
   "execution_count": 3,
   "metadata": {},
   "outputs": [],
   "source": [
    "import numpy, random"
   ]
  },
  {
   "cell_type": "code",
   "execution_count": 7,
   "metadata": {},
   "outputs": [
    {
     "name": "stdout",
     "output_type": "stream",
     "text": [
      "1.63 µs ± 13.3 ns per loop (mean ± std. dev. of 7 runs, 1000000 loops each)\n"
     ]
    }
   ],
   "source": [
    "%timeit numpy.random.randint(1,250)"
   ]
  },
  {
   "cell_type": "code",
   "execution_count": 8,
   "metadata": {},
   "outputs": [
    {
     "name": "stdout",
     "output_type": "stream",
     "text": [
      "1.09 µs ± 2.6 ns per loop (mean ± std. dev. of 7 runs, 1000000 loops each)\n"
     ]
    }
   ],
   "source": [
    "%timeit random.randint(1,250)"
   ]
  },
  {
   "cell_type": "code",
   "execution_count": 13,
   "metadata": {},
   "outputs": [],
   "source": [
    "from newspaper import Article\n",
    "import time\n",
    "\n",
    "page_url = \"https://www.straitstimes.com/singapore/transport/grab-defends-position-in-uber-merger-to-singapore-competition-watchdog\"\n",
    "\n",
    "article = Article(page_url)\n",
    "article.download()\n",
    "article.parse()\n",
    "if article.publish_date is not None:\n",
    "    page_published = time.mktime(article.publish_date.timetuple())\n",
    "else:\n",
    "    page_published = None"
   ]
  },
  {
   "cell_type": "code",
   "execution_count": 14,
   "metadata": {},
   "outputs": [
    {
     "data": {
      "text/plain": [
       "1532688874.0"
      ]
     },
     "execution_count": 14,
     "metadata": {},
     "output_type": "execute_result"
    }
   ],
   "source": [
    "page_published"
   ]
  },
  {
   "cell_type": "code",
   "execution_count": 19,
   "metadata": {},
   "outputs": [
    {
     "name": "stdout",
     "output_type": "stream",
     "text": [
      "22.2 ms ± 647 µs per loop (mean ± std. dev. of 7 runs, 10 loops each)\n"
     ]
    }
   ],
   "source": [
    "%%timeit\n",
    "page_url = \"https://www.theverge.com/2018/7/26/17619566/google-play-ban-apps-mine-cryptocurrency\"\n",
    "article = Article(page_url, fetch_images=False, memoize_articles=False)\n",
    "article.download()"
   ]
  },
  {
   "cell_type": "code",
   "execution_count": null,
   "metadata": {},
   "outputs": [],
   "source": []
  }
 ],
 "metadata": {
  "kernelspec": {
   "display_name": "Python 3",
   "language": "python",
   "name": "python3"
  },
  "language_info": {
   "codemirror_mode": {
    "name": "ipython",
    "version": 3
   },
   "file_extension": ".py",
   "mimetype": "text/x-python",
   "name": "python",
   "nbconvert_exporter": "python",
   "pygments_lexer": "ipython3",
   "version": "3.5.2"
  }
 },
 "nbformat": 4,
 "nbformat_minor": 2
}
